{
 "cells": [
  {
   "cell_type": "markdown",
   "id": "acee548e",
   "metadata": {},
   "source": [
    "##  Need todo\n",
    "- cleansing the data by identifying null values and replacing them with an appropriate value (zero in this case).\n",
    "- creating a model which provides the chances a flight will be delayed by more than 15 minutes for a given day and airport pair.\n",
    "- saving the model to a file for use in an external application.\n",
    "- creating a new file with the names and associated ids from the dataset of all airports."
   ]
  },
  {
   "cell_type": "markdown",
   "id": "fa6eecd1",
   "metadata": {},
   "source": [
    "## Import Dataset\n"
   ]
  },
  {
   "cell_type": "code",
   "execution_count": 1,
   "id": "e650e727",
   "metadata": {},
   "outputs": [
    {
     "name": "stdout",
     "output_type": "stream",
     "text": [
      "   Year  Month  DayofMonth  DayOfWeek Carrier  OriginAirportID  \\\n",
      "0  2013      9          16          1      DL            15304   \n",
      "1  2013      9          23          1      WN            14122   \n",
      "2  2013      9           7          6      AS            14747   \n",
      "3  2013      7          22          1      OO            13930   \n",
      "4  2013      5          16          4      DL            13931   \n",
      "\n",
      "              OriginAirportName  OriginCity OriginState  DestAirportID  \\\n",
      "0           Tampa International       Tampa          FL          12478   \n",
      "1      Pittsburgh International  Pittsburgh          PA          13232   \n",
      "2  Seattle/Tacoma International     Seattle          WA          11278   \n",
      "3  Chicago O'Hare International     Chicago          IL          11042   \n",
      "4         Norfolk International     Norfolk          VA          10397   \n",
      "\n",
      "                            DestAirportName    DestCity DestState  CRSDepTime  \\\n",
      "0             John F. Kennedy International    New York        NY        1539   \n",
      "1              Chicago Midway International     Chicago        IL         710   \n",
      "2         Ronald Reagan Washington National  Washington        DC         810   \n",
      "3           Cleveland-Hopkins International   Cleveland        OH         804   \n",
      "4  Hartsfield-Jackson Atlanta International     Atlanta        GA         545   \n",
      "\n",
      "   DepDelay  DepDel15  CRSArrTime  ArrDelay  ArrDel15  Cancelled  \n",
      "0         4       0.0        1824        13         0          0  \n",
      "1         3       0.0         740        22         1          0  \n",
      "2        -3       0.0        1614        -7         0          0  \n",
      "3        35       1.0        1027        33         1          0  \n",
      "4        -1       0.0         728        -9         0          0  \n"
     ]
    }
   ],
   "source": [
    "# import dataset\n",
    "import pandas as pd\n",
    "import numpy as np\n",
    "\n",
    "# file\n",
    "data = pd.read_csv('data/flights.csv')\n",
    "\n",
    "# check the data\n",
    "print(data.head())"
   ]
  },
  {
   "cell_type": "markdown",
   "id": "2bac1240",
   "metadata": {},
   "source": [
    "## Check Data"
   ]
  },
  {
   "cell_type": "code",
   "execution_count": 2,
   "id": "ef63c58f",
   "metadata": {},
   "outputs": [
    {
     "name": "stdout",
     "output_type": "stream",
     "text": [
      "Year                    0\n",
      "Month                   0\n",
      "DayofMonth              0\n",
      "DayOfWeek               0\n",
      "Carrier                 0\n",
      "OriginAirportID         0\n",
      "OriginAirportName       0\n",
      "OriginCity              0\n",
      "OriginState             0\n",
      "DestAirportID           0\n",
      "DestAirportName         0\n",
      "DestCity                0\n",
      "DestState               0\n",
      "CRSDepTime              0\n",
      "DepDelay                0\n",
      "DepDel15             2761\n",
      "CRSArrTime              0\n",
      "ArrDelay                0\n",
      "ArrDel15                0\n",
      "Cancelled               0\n",
      "dtype: int64\n"
     ]
    }
   ],
   "source": [
    "# find null values\n",
    "print(data.isnull().sum())"
   ]
  },
  {
   "cell_type": "markdown",
   "id": "a54c64c5",
   "metadata": {},
   "source": [
    "## Clean Data"
   ]
  },
  {
   "cell_type": "code",
   "execution_count": 3,
   "id": "8d571972",
   "metadata": {},
   "outputs": [
    {
     "name": "stdout",
     "output_type": "stream",
     "text": [
      "Year                 0\n",
      "Month                0\n",
      "DayofMonth           0\n",
      "DayOfWeek            0\n",
      "Carrier              0\n",
      "OriginAirportID      0\n",
      "OriginAirportName    0\n",
      "OriginCity           0\n",
      "OriginState          0\n",
      "DestAirportID        0\n",
      "DestAirportName      0\n",
      "DestCity             0\n",
      "DestState            0\n",
      "CRSDepTime           0\n",
      "DepDelay             0\n",
      "DepDel15             0\n",
      "CRSArrTime           0\n",
      "ArrDelay             0\n",
      "ArrDel15             0\n",
      "Cancelled            0\n",
      "dtype: int64\n"
     ]
    }
   ],
   "source": [
    "# change from null to 0\n",
    "data['DepDel15'].fillna(0, inplace=True)\n",
    "\n",
    "# check the data\n",
    "print(data.isnull().sum())"
   ]
  },
  {
   "cell_type": "markdown",
   "id": "0a10efde",
   "metadata": {},
   "source": [
    "## Create the model"
   ]
  },
  {
   "cell_type": "code",
   "execution_count": 4,
   "id": "b8522690",
   "metadata": {},
   "outputs": [],
   "source": [
    "# Add at the end of existing code\n",
    "\n",
    "from sklearn.model_selection import train_test_split\n",
    "from sklearn.preprocessing import OneHotEncoder\n",
    "from sklearn.ensemble import RandomForestClassifier\n",
    "import pickle\n",
    "from sklearn.metrics import classification_report, confusion_matrix, accuracy_score\n",
    "import matplotlib.pyplot as plt\n",
    "import seaborn as sns"
   ]
  },
  {
   "cell_type": "code",
   "execution_count": 6,
   "id": "f5152343",
   "metadata": {},
   "outputs": [
    {
     "name": "stdout",
     "output_type": "stream",
     "text": [
      "Dataset shape: (271940, 20)\n",
      "\n",
      "Dataset columns: ['Year', 'Month', 'DayofMonth', 'DayOfWeek', 'Carrier', 'OriginAirportID', 'OriginAirportName', 'OriginCity', 'OriginState', 'DestAirportID', 'DestAirportName', 'DestCity', 'DestState', 'CRSDepTime', 'DepDelay', 'DepDel15', 'CRSArrTime', 'ArrDelay', 'ArrDel15', 'Cancelled']\n",
      "\n",
      "Check for remaining null values after previous cleaning:\n",
      "Year                 0\n",
      "Month                0\n",
      "DayofMonth           0\n",
      "DayOfWeek            0\n",
      "Carrier              0\n",
      "OriginAirportID      0\n",
      "OriginAirportName    0\n",
      "OriginCity           0\n",
      "OriginState          0\n",
      "DestAirportID        0\n",
      "DestAirportName      0\n",
      "DestCity             0\n",
      "DestState            0\n",
      "CRSDepTime           0\n",
      "DepDelay             0\n",
      "DepDel15             0\n",
      "CRSArrTime           0\n",
      "ArrDelay             0\n",
      "ArrDel15             0\n",
      "Cancelled            0\n",
      "dtype: int64\n",
      "\n",
      "Proportion of flights delayed by 15+ minutes:\n",
      "0.0    0.800908\n",
      "1.0    0.199092\n",
      "Name: DepDel15, dtype: float64\n"
     ]
    },
    {
     "data": {
      "image/png": "[encoded data removed]",
      "text/plain": [
       "<Figure size 1000x600 with 1 Axes>"
      ]
     },
     "metadata": {},
     "output_type": "display_data"
    },
    {
     "data": {
      "image/png": "[encoded data removed]",
      "text/plain": [
       "<Figure size 1200x600 with 1 Axes>"
      ]
     },
     "metadata": {},
     "output_type": "display_data"
    }
   ],
   "source": [
    "# Exploratory Data Analysis\n",
    "print(\"Dataset shape:\", data.shape)\n",
    "print(\"\\nDataset columns:\", data.columns.tolist())\n",
    "print(\"\\nCheck for remaining null values after previous cleaning:\")\n",
    "print(data.isnull().sum())\n",
    "\n",
    "# Check the proportion of delayed flights\n",
    "print(\"\\nProportion of flights delayed by 15+ minutes:\")\n",
    "print(data['DepDel15'].value_counts(normalize=True))\n",
    "\n",
    "# Explore delay patterns by day of week\n",
    "plt.figure(figsize=(10, 6))\n",
    "delay_by_day = data.groupby('DayOfWeek')['DepDel15'].mean()\n",
    "sns.barplot(x=delay_by_day.index, y=delay_by_day.values)\n",
    "plt.title('Average Delay Rate by Day of Week')\n",
    "plt.xlabel('Day of Week (1=Monday, 7=Sunday)')\n",
    "plt.ylabel('Probability of Delay')\n",
    "plt.show()\n",
    "\n",
    "# Explore the most frequent origin airports\n",
    "plt.figure(figsize=(12, 6))\n",
    "top_origins = data['OriginAirportID'].value_counts().head(10)\n",
    "sns.barplot(x=top_origins.values, y=top_origins.index.astype(str))\n",
    "plt.title('Top 10 Origin Airports by Flight Count')\n",
    "plt.xlabel('Number of Flights')\n",
    "plt.show()"
   ]
  },
  {
   "cell_type": "code",
   "execution_count": null,
   "id": "92a20fe4",
   "metadata": {},
   "outputs": [],
   "source": []
  },
  {
   "cell_type": "code",
   "execution_count": null,
   "id": "7c9b79ff",
   "metadata": {},
   "outputs": [
    {
     "name": "stdout",
     "output_type": "stream",
     "text": [
      "Shape of encoded features: (271940, 2490)\n"
     ]
    }
   ],
   "source": [
    "# Feature Engineering\n",
    "# Create features for origin-destination pair and day of week\n",
    "\n",
    "# Let's create a new feature for airport pair\n",
    "data['AirportPair'] = data['OriginAirportID'].astype(str) + '_' + data['DestAirportID'].astype(str)\n",
    "\n",
    "# Select features for modeling\n",
    "X = data[['DayOfWeek', 'AirportPair']]\n",
    "y = data['DepDel15'].astype(int)  # Ensure target is integer type\n",
    "\n",
    "# One-hot encode the categorical variables\n",
    "encoder = OneHotEncoder(sparse_output=False, handle_unknown='ignore')\n",
    "X_encoded = encoder.fit_transform(X)\n",
    "\n",
    "print(f\"Shape of encoded features: {X_encoded.shape}\")\n",
    "\n",
    "# Train-test split\n",
    "X_train, X_test, y_train, y_test = train_test_split(X_encoded, y, test_size=0.2, random_state=42)"
   ]
  },
  {
   "cell_type": "code",
   "execution_count": null,
   "id": "19b3b98b",
   "metadata": {},
   "outputs": [],
   "source": [
    "# Train a Random Forest model\n",
    "model = RandomForestClassifier(n_estimators=100, random_state=42)\n",
    "model.fit(X_train, y_train)\n",
    "\n",
    "# Evaluate the model\n",
    "y_pred = model.predict(X_test)\n",
    "y_pred_proba = model.predict_proba(X_test)[:, 1]\n",
    "\n",
    "print(\"\\nModel Evaluation:\")\n",
    "print(f\"Accuracy: {accuracy_score(y_test, y_pred):.4f}\")\n",
    "print(\"\\nClassification Report:\")\n",
    "print(classification_report(y_test, y_pred))\n",
    "\n",
    "# Confusion matrix\n",
    "plt.figure(figsize=(8, 6))\n",
    "cm = confusion_matrix(y_test, y_pred)\n",
    "sns.heatmap(cm, annot=True, fmt='d', cmap='Blues')\n",
    "plt.xlabel('Predicted')\n",
    "plt.ylabel('Actual')\n",
    "plt.title('Confusion Matrix')\n",
    "plt.show()"
   ]
  },
  {
   "cell_type": "code",
   "execution_count": null,
   "id": "95cb4bf2",
   "metadata": {},
   "outputs": [],
   "source": [
    "def predict_delay_probability(model, encoder, day_of_week, origin_airport_id, dest_airport_id):\n",
    "    \"\"\"\n",
    "    Predicts the probability of a flight being delayed by 15+ minutes\n",
    "    \n",
    "    Parameters:\n",
    "    -----------\n",
    "    model: The trained model\n",
    "    encoder: The fitted one-hot encoder\n",
    "    day_of_week: int (1-7, where 1 is Monday)\n",
    "    origin_airport_id: str or int representing origin airport ID\n",
    "    dest_airport_id: str or int representing destination airport ID\n",
    "    \n",
    "    Returns:\n",
    "    --------\n",
    "    float: Probability of delay (0-1)\n",
    "    \"\"\"\n",
    "    # Create a DataFrame for the input\n",
    "    input_data = pd.DataFrame({\n",
    "        'DayOfWeek': [day_of_week],\n",
    "        'AirportPair': [f\"{origin_airport_id}_{dest_airport_id}\"]\n",
    "    })\n",
    "    \n",
    "    # Encode the input\n",
    "    input_encoded = encoder.transform(input_data)\n",
    "    \n",
    "    # Predict probability\n",
    "    delay_prob = model.predict_proba(input_encoded)[0, 1]\n",
    "    \n",
    "    return delay_prob\n",
    "\n",
    "# Example usage\n",
    "print(\"\\nExample prediction:\")\n",
    "day = 1  # Monday\n",
    "origin = 12478  # JFK\n",
    "destination = 12892  # LAX\n",
    "prob = predict_delay_probability(model, encoder, day, origin, destination)\n",
    "print(f\"Probability of delay for a flight from JFK to LAX on Monday: {prob:.2f}\")"
   ]
  },
  {
   "cell_type": "code",
   "execution_count": null,
   "id": "e959a0c8",
   "metadata": {},
   "outputs": [],
   "source": [
    "# Save the model and encoder to files\n",
    "with open('flight_delay_model.pkl', 'wb') as f:\n",
    "    pickle.dump(model, f)\n",
    "\n",
    "with open('flight_delay_encoder.pkl', 'wb') as f:\n",
    "    pickle.dump(encoder, f)\n",
    "\n",
    "# Create a mapping file for airport IDs to names for reference\n",
    "airport_mapping = data[['OriginAirportID', 'OriginAirportName']].drop_duplicates()\n",
    "airport_mapping.columns = ['AirportID', 'AirportName']\n",
    "airport_mapping.to_csv('data/airport_mapping.csv', index=False)\n",
    "\n",
    "print(\"\\nModel, encoder, and airport mapping saved to files.\")"
   ]
  }
 ],
 "metadata": {
  "kernelspec": {
   "display_name": "Python 3",
   "language": "python",
   "name": "python3"
  },
  "language_info": {
   "codemirror_mode": {
    "name": "ipython",
    "version": 3
   },
   "file_extension": ".py",
   "mimetype": "text/x-python",
   "name": "python",
   "nbconvert_exporter": "python",
   "pygments_lexer": "ipython3",
   "version": "3.11.2"
  }
 },
 "nbformat": 4,
 "nbformat_minor": 5
}
